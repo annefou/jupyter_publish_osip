{
 "cells": [
  {
   "cell_type": "markdown",
   "metadata": {},
   "source": [
    "# JupyterLab git extension"
   ]
  },
  {
   "cell_type": "markdown",
   "metadata": {},
   "source": [
    "JupyterLab git extension is already installed in the Jupyter publish VM. If you want to install this extension to your local JupyterLab on your computer, follow installation instructions at [https://github.com/jupyterlab/jupyterlab-git](https://github.com/jupyterlab/jupyterlab-git).\n",
    "\n",
    "## Check availability of JupyterLab git extension\n",
    "\n",
    "A tab labeled “Git” (or with Git logo) as well as “Git panel” are available once JupyterLab git extension is properly installed, as shown on the figure below:\n",
    "\n",
    "\n",
    "![JupyterLab git](images/jupyterlab-git.png)\n",
    "\n",
    "\n",
    "\n",
    "## Git Terminal\n",
    "\n",
    "Save and close your Jupyter notebook so you can start a terminal from the JupyterLab Launcher:\n",
    "\n",
    "![JupyterLab terminal](images/jupyterlab-terminal.png)\n",
    "\n",
    "From this terminal, you can use `git` as a command line:\n",
    "\n",
    "```\n",
    "git status\n",
    "```\n",
    "\n",
    "**Tips**\n",
    "\n",
    "Another way to open a Git Terminal is to use the “Git” Tab -> “Open Terminal”\n",
    "The copy/paste menu is “hidden” so to get it:\n",
    "- copy: select the text to copy with your mouse then SHIFT and right-click with your mouse so the copy menu will appear.\n",
    "- paste: SHIFT and right click to get the paste menu.\n",
    "\n",
    "\n",
    "## Git diff Jupyter notebook\n",
    "\n",
    "We have installed [nbdime](https://nbdime.readthedocs.io/en/latest/) and its JupyterLab extension so we can diff Jupyter notebooks:\n",
    "\n",
    "![JupyterLab git diff](images/git_diff_jupyterlab.png)\n",
    "\n",
    "Let's make a change in one of our jupyter notebook, for instance [jupyter_publish-1.ipynb](jupyter_publish-1.ipynb), by adding a new **markdown cell**:\n",
    "\n",
    "```\n",
    "# Add a new cell\n",
    "```\n",
    "\n",
    "Click on `git` to get the differences:\n",
    "\n",
    "![JupyterLab git diff with changes](images/git_diff_jupyterlab_new_cell.png)"
   ]
  },
  {
   "cell_type": "markdown",
   "metadata": {},
   "source": [
    "# Staging and committing from JupyterLab\n",
    "\n",
    "You can either use `git` Terminal from JupyterLab and run the git command line to manage your project or you can use the graphical user interface provided by JupyterLab:\n",
    "\n",
    "![JupyterLab git staging](images/staging_jupyterlab.png)"
   ]
  },
  {
   "cell_type": "code",
   "execution_count": null,
   "metadata": {},
   "outputs": [],
   "source": []
  }
 ],
 "metadata": {
  "kernelspec": {
   "display_name": "Python 3",
   "language": "python",
   "name": "python3"
  },
  "language_info": {
   "codemirror_mode": {
    "name": "ipython",
    "version": 3
   },
   "file_extension": ".py",
   "mimetype": "text/x-python",
   "name": "python",
   "nbconvert_exporter": "python",
   "pygments_lexer": "ipython3",
   "version": "3.6.7"
  }
 },
 "nbformat": 4,
 "nbformat_minor": 2
}
