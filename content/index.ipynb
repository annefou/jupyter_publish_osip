{
 "cells": [
  {
   "cell_type": "markdown",
   "metadata": {},
   "source": [
    "## Publication ready scientific reports and presentations with Jupyter notebooks\n",
    "\n",
    "\n",
    "![coderefinery logo](images/coderefinery.png)\n",
    "\n",
    "This workshop has been developed within the [CodeRefinery](https://coderefinery.org) project. CodeRefinery is  funded by [Nordic e-Infrastructure Collaboration](https://neic.no/) (NeIC) and aims at advancing FAIRness of Software management and development practices so that research groups can collaboratively develop, review, discuss, test, share and reuse their codes.   CodeRefinery also deliver 3-day workshops within the Nordic countries, namely in Iceland, Denmark, Norway, Sweden, Finland and Estonia.\n",
    "\n",
    "- [Introduction to JupyterLab](jupyter_publish-1.ipynb)\n",
    "- [A first notebook to get familiar with JupyterLab](jupyter_publish-2.ipynb)\n",
    "- [JupyterLab git extension](jupyter_publish-3.ipynb)\n",
    "- [Convert your notebook with ipypublish](jupyter_publish-4.ipynb)\n",
    "- [Share and Publish Jupyter notebooks](jupyter_publish-5.ipynb)"
   ]
  },
  {
   "cell_type": "code",
   "execution_count": null,
   "metadata": {},
   "outputs": [],
   "source": []
  }
 ],
 "metadata": {
  "kernelspec": {
   "display_name": "Python 3",
   "language": "python",
   "name": "python3"
  },
  "language_info": {
   "codemirror_mode": {
    "name": "ipython",
    "version": 3
   },
   "file_extension": ".py",
   "mimetype": "text/x-python",
   "name": "python",
   "nbconvert_exporter": "python",
   "pygments_lexer": "ipython3",
   "version": "3.6.7"
  }
 },
 "nbformat": 4,
 "nbformat_minor": 2
}
